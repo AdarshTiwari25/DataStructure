{
 "cells": [
  {
   "cell_type": "code",
   "execution_count": 4,
   "id": "f8d84052",
   "metadata": {},
   "outputs": [
    {
     "data": {
      "text/plain": [
       "[1, 2, 'data structure', 12, 10.6]"
      ]
     },
     "execution_count": 4,
     "metadata": {},
     "output_type": "execute_result"
    }
   ],
   "source": [
    "sample_list= [1,2,'data structure',12,10.6]\n",
    "sample_list"
   ]
  },
  {
   "cell_type": "code",
   "execution_count": 5,
   "id": "f67fcd67",
   "metadata": {},
   "outputs": [
    {
     "data": {
      "text/plain": [
       "list"
      ]
     },
     "execution_count": 5,
     "metadata": {},
     "output_type": "execute_result"
    }
   ],
   "source": [
    "type(sample_list)"
   ]
  },
  {
   "cell_type": "code",
   "execution_count": 6,
   "id": "fdd3a77b",
   "metadata": {},
   "outputs": [
    {
     "data": {
      "text/plain": [
       "2"
      ]
     },
     "execution_count": 6,
     "metadata": {},
     "output_type": "execute_result"
    }
   ],
   "source": [
    "sample_list[1]"
   ]
  },
  {
   "cell_type": "code",
   "execution_count": 7,
   "id": "98bbbdec",
   "metadata": {},
   "outputs": [
    {
     "data": {
      "text/plain": [
       "10.6"
      ]
     },
     "execution_count": 7,
     "metadata": {},
     "output_type": "execute_result"
    }
   ],
   "source": [
    "sample_list[-1]"
   ]
  },
  {
   "cell_type": "code",
   "execution_count": 8,
   "id": "2ffa181b",
   "metadata": {},
   "outputs": [
    {
     "ename": "IndexError",
     "evalue": "list index out of range",
     "output_type": "error",
     "traceback": [
      "\u001b[1;31m---------------------------------------------------------------------------\u001b[0m",
      "\u001b[1;31mIndexError\u001b[0m                                Traceback (most recent call last)",
      "Cell \u001b[1;32mIn[8], line 1\u001b[0m\n\u001b[1;32m----> 1\u001b[0m \u001b[43msample_list\u001b[49m\u001b[43m[\u001b[49m\u001b[38;5;241;43m12\u001b[39;49m\u001b[43m]\u001b[49m\n",
      "\u001b[1;31mIndexError\u001b[0m: list index out of range"
     ]
    }
   ],
   "source": [
    "sample_list[12]"
   ]
  },
  {
   "cell_type": "code",
   "execution_count": 9,
   "id": "8db58b6f",
   "metadata": {},
   "outputs": [],
   "source": [
    "sample_list[0]=10"
   ]
  },
  {
   "cell_type": "code",
   "execution_count": 10,
   "id": "1388710b",
   "metadata": {},
   "outputs": [
    {
     "data": {
      "text/plain": [
       "[10, 2, 'data structure', 12, 10.6]"
      ]
     },
     "execution_count": 10,
     "metadata": {},
     "output_type": "execute_result"
    }
   ],
   "source": [
    "sample_list"
   ]
  },
  {
   "cell_type": "markdown",
   "id": "3572bbe4",
   "metadata": {},
   "source": [
    "## Tuple\n",
    "### heterogeneous\n",
    "### immutable\n",
    "### paranthesis\n",
    "### can retrieve data using index"
   ]
  },
  {
   "cell_type": "code",
   "execution_count": 15,
   "id": "4be15fb2",
   "metadata": {},
   "outputs": [
    {
     "data": {
      "text/plain": [
       "(1, 2, 'adarsh', 10.6, 891)"
      ]
     },
     "execution_count": 15,
     "metadata": {},
     "output_type": "execute_result"
    }
   ],
   "source": [
    "sample_tuple=(1,2,'adarsh',10.6,891)\n",
    "sample_tuple"
   ]
  },
  {
   "cell_type": "code",
   "execution_count": 16,
   "id": "d43ba3bc",
   "metadata": {},
   "outputs": [
    {
     "data": {
      "text/plain": [
       "2"
      ]
     },
     "execution_count": 16,
     "metadata": {},
     "output_type": "execute_result"
    }
   ],
   "source": [
    "sample_tuple[1]"
   ]
  },
  {
   "cell_type": "code",
   "execution_count": 17,
   "id": "8cf16677",
   "metadata": {},
   "outputs": [
    {
     "data": {
      "text/plain": [
       "891"
      ]
     },
     "execution_count": 17,
     "metadata": {},
     "output_type": "execute_result"
    }
   ],
   "source": [
    "sample_tuple[4]"
   ]
  },
  {
   "cell_type": "code",
   "execution_count": 18,
   "id": "22de0113",
   "metadata": {},
   "outputs": [
    {
     "data": {
      "text/plain": [
       "891"
      ]
     },
     "execution_count": 18,
     "metadata": {},
     "output_type": "execute_result"
    }
   ],
   "source": [
    "sample_tuple[-1]"
   ]
  },
  {
   "cell_type": "code",
   "execution_count": 19,
   "id": "9d9a0482",
   "metadata": {},
   "outputs": [
    {
     "ename": "TypeError",
     "evalue": "'tuple' object does not support item assignment",
     "output_type": "error",
     "traceback": [
      "\u001b[1;31m---------------------------------------------------------------------------\u001b[0m",
      "\u001b[1;31mTypeError\u001b[0m                                 Traceback (most recent call last)",
      "Cell \u001b[1;32mIn[19], line 1\u001b[0m\n\u001b[1;32m----> 1\u001b[0m sample_tuple[\u001b[38;5;241m0\u001b[39m]\u001b[38;5;241m=\u001b[39m\u001b[38;5;241m10\u001b[39m\n",
      "\u001b[1;31mTypeError\u001b[0m: 'tuple' object does not support item assignment"
     ]
    }
   ],
   "source": [
    "sample_tuple[0]=10"
   ]
  },
  {
   "cell_type": "code",
   "execution_count": 20,
   "id": "8010b67c",
   "metadata": {},
   "outputs": [
    {
     "data": {
      "text/plain": [
       "1"
      ]
     },
     "execution_count": 20,
     "metadata": {},
     "output_type": "execute_result"
    }
   ],
   "source": [
    "sample_tuple[0]"
   ]
  },
  {
   "cell_type": "markdown",
   "id": "1e20f57d",
   "metadata": {},
   "source": [
    "## Set\n",
    "### set does not allow duplicates\n",
    "### set is ordered first place \n",
    "### element cannot be retrieve using index\n",
    "### set is mutable"
   ]
  },
  {
   "cell_type": "code",
   "execution_count": 35,
   "id": "ade309cb",
   "metadata": {},
   "outputs": [
    {
     "data": {
      "text/plain": [
       "{1, 18923, 298032, 4239, 'adarsh', 'meeting', 'webex'}"
      ]
     },
     "execution_count": 35,
     "metadata": {},
     "output_type": "execute_result"
    }
   ],
   "source": [
    "sample_set={1,298032,18923,4239,\"adarsh\",\"webex\",\"meeting\"}\n",
    "sample_set"
   ]
  },
  {
   "cell_type": "code",
   "execution_count": 36,
   "id": "873a049a",
   "metadata": {},
   "outputs": [
    {
     "ename": "TypeError",
     "evalue": "'set' object is not subscriptable",
     "output_type": "error",
     "traceback": [
      "\u001b[1;31m---------------------------------------------------------------------------\u001b[0m",
      "\u001b[1;31mTypeError\u001b[0m                                 Traceback (most recent call last)",
      "Cell \u001b[1;32mIn[36], line 1\u001b[0m\n\u001b[1;32m----> 1\u001b[0m \u001b[43msample_set\u001b[49m\u001b[43m[\u001b[49m\u001b[38;5;241;43m0\u001b[39;49m\u001b[43m]\u001b[49m\n",
      "\u001b[1;31mTypeError\u001b[0m: 'set' object is not subscriptable"
     ]
    }
   ],
   "source": [
    "sample_set[0]"
   ]
  },
  {
   "cell_type": "code",
   "execution_count": 37,
   "id": "1f9e9b94",
   "metadata": {},
   "outputs": [
    {
     "ename": "TypeError",
     "evalue": "'set' object does not support item assignment",
     "output_type": "error",
     "traceback": [
      "\u001b[1;31m---------------------------------------------------------------------------\u001b[0m",
      "\u001b[1;31mTypeError\u001b[0m                                 Traceback (most recent call last)",
      "Cell \u001b[1;32mIn[37], line 1\u001b[0m\n\u001b[1;32m----> 1\u001b[0m sample_set[\u001b[38;5;241m0\u001b[39m]\u001b[38;5;241m=\u001b[39m \u001b[38;5;124m'\u001b[39m\u001b[38;5;124mdars\u001b[39m\u001b[38;5;124m'\u001b[39m\n",
      "\u001b[1;31mTypeError\u001b[0m: 'set' object does not support item assignment"
     ]
    }
   ],
   "source": [
    "sample_set[0]= 'dars'"
   ]
  },
  {
   "cell_type": "code",
   "execution_count": 38,
   "id": "9babc9b9",
   "metadata": {},
   "outputs": [],
   "source": [
    "sample_set.add(0)"
   ]
  },
  {
   "cell_type": "code",
   "execution_count": 39,
   "id": "65724b24",
   "metadata": {},
   "outputs": [
    {
     "data": {
      "text/plain": [
       "{0, 1, 18923, 298032, 4239, 'adarsh', 'meeting', 'webex'}"
      ]
     },
     "execution_count": 39,
     "metadata": {},
     "output_type": "execute_result"
    }
   ],
   "source": [
    "sample_set"
   ]
  },
  {
   "cell_type": "code",
   "execution_count": 40,
   "id": "0c203bfb",
   "metadata": {},
   "outputs": [],
   "source": [
    "sample_set.remove('adarsh')"
   ]
  },
  {
   "cell_type": "code",
   "execution_count": 41,
   "id": "967ba6c6",
   "metadata": {},
   "outputs": [
    {
     "data": {
      "text/plain": [
       "{0, 1, 18923, 298032, 4239, 'meeting', 'webex'}"
      ]
     },
     "execution_count": 41,
     "metadata": {},
     "output_type": "execute_result"
    }
   ],
   "source": [
    "sample_set"
   ]
  },
  {
   "cell_type": "code",
   "execution_count": 42,
   "id": "86bcdd28",
   "metadata": {},
   "outputs": [],
   "source": [
    "sample_set.add(0)"
   ]
  },
  {
   "cell_type": "code",
   "execution_count": 43,
   "id": "628cb062",
   "metadata": {},
   "outputs": [
    {
     "data": {
      "text/plain": [
       "{0, 1, 18923, 298032, 4239, 'meeting', 'webex'}"
      ]
     },
     "execution_count": 43,
     "metadata": {},
     "output_type": "execute_result"
    }
   ],
   "source": [
    "sample_set"
   ]
  },
  {
   "cell_type": "markdown",
   "id": "c26acb35",
   "metadata": {},
   "source": [
    "##Dictionary\n",
    "###Has key value pair data structure\n",
    "###Key is unique (to whom value assigned)\n",
    "###values can be duplicated\n",
    "###values can be retrieved using key\n",
    "###key cannot be retrieved using values"
   ]
  },
  {
   "cell_type": "code",
   "execution_count": 48,
   "id": "88b25119",
   "metadata": {},
   "outputs": [],
   "source": [
    "sample_dict={1:'adarsh',2: 13.4,3: 13.4, 6: 'data',7:12}"
   ]
  },
  {
   "cell_type": "code",
   "execution_count": 49,
   "id": "941cb266",
   "metadata": {},
   "outputs": [
    {
     "data": {
      "text/plain": [
       "{1: 'adarsh', 2: 13.4, 3: 13.4, 6: 'data', 7: 12}"
      ]
     },
     "execution_count": 49,
     "metadata": {},
     "output_type": "execute_result"
    }
   ],
   "source": [
    "sample_dict"
   ]
  },
  {
   "cell_type": "code",
   "execution_count": 50,
   "id": "9d80aceb",
   "metadata": {},
   "outputs": [
    {
     "ename": "KeyError",
     "evalue": "0",
     "output_type": "error",
     "traceback": [
      "\u001b[1;31m---------------------------------------------------------------------------\u001b[0m",
      "\u001b[1;31mKeyError\u001b[0m                                  Traceback (most recent call last)",
      "Cell \u001b[1;32mIn[50], line 1\u001b[0m\n\u001b[1;32m----> 1\u001b[0m \u001b[43msample_dict\u001b[49m\u001b[43m[\u001b[49m\u001b[38;5;241;43m0\u001b[39;49m\u001b[43m]\u001b[49m\n",
      "\u001b[1;31mKeyError\u001b[0m: 0"
     ]
    }
   ],
   "source": [
    "sample_dict[0]"
   ]
  },
  {
   "cell_type": "code",
   "execution_count": 51,
   "id": "a242f202",
   "metadata": {},
   "outputs": [
    {
     "data": {
      "text/plain": [
       "'adarsh'"
      ]
     },
     "execution_count": 51,
     "metadata": {},
     "output_type": "execute_result"
    }
   ],
   "source": [
    "sample_dict[1]"
   ]
  },
  {
   "cell_type": "code",
   "execution_count": 52,
   "id": "aeaafd3a",
   "metadata": {},
   "outputs": [
    {
     "ename": "KeyError",
     "evalue": "'adarsh'",
     "output_type": "error",
     "traceback": [
      "\u001b[1;31m---------------------------------------------------------------------------\u001b[0m",
      "\u001b[1;31mKeyError\u001b[0m                                  Traceback (most recent call last)",
      "Cell \u001b[1;32mIn[52], line 1\u001b[0m\n\u001b[1;32m----> 1\u001b[0m \u001b[43msample_dict\u001b[49m\u001b[43m[\u001b[49m\u001b[38;5;124;43m'\u001b[39;49m\u001b[38;5;124;43madarsh\u001b[39;49m\u001b[38;5;124;43m'\u001b[39;49m\u001b[43m]\u001b[49m\n",
      "\u001b[1;31mKeyError\u001b[0m: 'adarsh'"
     ]
    }
   ],
   "source": [
    "sample_dict['adarsh']"
   ]
  },
  {
   "cell_type": "code",
   "execution_count": 53,
   "id": "71668ea3",
   "metadata": {},
   "outputs": [],
   "source": [
    "sample_dict[0]='webex'"
   ]
  },
  {
   "cell_type": "code",
   "execution_count": 54,
   "id": "3b2e7214",
   "metadata": {},
   "outputs": [
    {
     "data": {
      "text/plain": [
       "{1: 'adarsh', 2: 13.4, 3: 13.4, 6: 'data', 7: 12, 0: 'webex'}"
      ]
     },
     "execution_count": 54,
     "metadata": {},
     "output_type": "execute_result"
    }
   ],
   "source": [
    "sample_dict"
   ]
  },
  {
   "cell_type": "code",
   "execution_count": 55,
   "id": "922b0711",
   "metadata": {},
   "outputs": [],
   "source": [
    "sample_dict[1]='tiwari'"
   ]
  },
  {
   "cell_type": "code",
   "execution_count": 56,
   "id": "dddb9fac",
   "metadata": {},
   "outputs": [
    {
     "data": {
      "text/plain": [
       "{1: 'tiwari', 2: 13.4, 3: 13.4, 6: 'data', 7: 12, 0: 'webex'}"
      ]
     },
     "execution_count": 56,
     "metadata": {},
     "output_type": "execute_result"
    }
   ],
   "source": [
    "sample_dict"
   ]
  },
  {
   "cell_type": "code",
   "execution_count": null,
   "id": "e7f1be49",
   "metadata": {},
   "outputs": [],
   "source": []
  }
 ],
 "metadata": {
  "kernelspec": {
   "display_name": "Python 3 (ipykernel)",
   "language": "python",
   "name": "python3"
  },
  "language_info": {
   "codemirror_mode": {
    "name": "ipython",
    "version": 3
   },
   "file_extension": ".py",
   "mimetype": "text/x-python",
   "name": "python",
   "nbconvert_exporter": "python",
   "pygments_lexer": "ipython3",
   "version": "3.10.9"
  }
 },
 "nbformat": 4,
 "nbformat_minor": 5
}
